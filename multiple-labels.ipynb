{
 "cells": [
  {
   "cell_type": "code",
   "execution_count": null,
   "id": "017c2766-fc33-42f9-a0f2-30fda422c59f",
   "metadata": {},
   "outputs": [],
   "source": [
    "# !pip install stackview cellpose 'napari[all]' ultrack cucim ipycanvas==0.11\n",
    "# !pip install git+https://github.com/Janelia-Trackathon-2023/traccuracy\n",
    "COLAB = True\n",
    "# COLAB = False"
   ]
  },
  {
   "cell_type": "code",
   "execution_count": null,
   "id": "923c68b7",
   "metadata": {
    "id": "923c68b7"
   },
   "outputs": [],
   "source": [
    "from pathlib import Path\n",
    "from typing import Dict\n",
    "\n",
    "import pandas as pd\n",
    "import numpy as np\n",
    "import stackview\n",
    "from dask.array.image import imread\n",
    "from numpy.typing import ArrayLike\n",
    "from rich import print\n",
    "\n",
    "from traccuracy import run_metrics\n",
    "from traccuracy.loaders import load_ctc_data\n",
    "from traccuracy.matchers import CTCMatched\n",
    "from traccuracy.metrics import CTCMetrics\n",
    "\n",
    "from ultrack import track, to_tracks_layer, tracks_to_zarr, to_ctc\n",
    "from ultrack.utils import labels_to_edges\n",
    "from ultrack.config import MainConfig\n",
    "from ultrack.imgproc import normalize\n",
    "from ultrack.imgproc.segmentation import Cellpose\n",
    "from ultrack.utils.array import array_apply"
   ]
  },
  {
   "cell_type": "code",
   "execution_count": null,
   "id": "63901b1c-ac75-4873-8ce2-757da85bd754",
   "metadata": {},
   "outputs": [],
   "source": [
    "if COLAB:\n",
    "    viewer = None\n",
    "\n",
    "    # fixes colab encoding error\n",
    "    import locale\n",
    "    locale.getpreferredencoding = lambda: \"UTF-8\"\n",
    "\n",
    "    # enabling colab output\n",
    "    try:\n",
    "        from google.colab import output\n",
    "        output.enable_custom_widget_manager()\n",
    "    except ModuleNotFoundError as e:\n",
    "        print(e)\n",
    "else:\n",
    "    import napari\n",
    "    viewer = napari.Viewer()"
   ]
  },
  {
   "cell_type": "code",
   "execution_count": null,
   "id": "291788ce",
   "metadata": {
    "colab": {
     "base_uri": "https://localhost:8080/",
     "height": 35
    },
    "id": "291788ce",
    "outputId": "e6f14189-e280-49cb-b912-e47cd860c985"
   },
   "outputs": [],
   "source": [
    "dataset = \"02\"\n",
    "path = Path(\"Fluo-C2DL-Huh7\") / dataset\n",
    "image = imread(str(path / \"*.tif\"))\n",
    "\n",
    "if COLAB:\n",
    "    display(stackview.slice(image))\n",
    "else:\n",
    "    viewer.add_image(image)"
   ]
  },
  {
   "cell_type": "code",
   "execution_count": null,
   "id": "ff451bcc",
   "metadata": {
    "colab": {
     "base_uri": "https://localhost:8080/",
     "height": 668
    },
    "id": "ff451bcc",
    "outputId": "0cb3ebe4-e371-4b19-9d67-25e35e7f8b86"
   },
   "outputs": [],
   "source": [
    "config = MainConfig()\n",
    "\n",
    "# Candidate segmentation parameters\n",
    "config.segmentation_config.n_workers = 8\n",
    "config.segmentation_config.min_area = 2500\n",
    "config.segmentation_config.min_frontier = 0.05  # CHANGING THIS IS IMPORTANT\n",
    "\n",
    "# Setting the maximum number of candidate neighbors and maximum spatial distance between cells\n",
    "config.linking_config.max_neighbors = 5\n",
    "config.linking_config.max_distance = 100\n",
    "config.linking_config.n_workers = 8\n",
    "\n",
    "# Adding absurd weight to division because there's no diving cell\n",
    "config.tracking_config.division_weight = -100\n",
    "# Very few tracks enter / leave the field of view, increasing penalization\n",
    "config.tracking_config.disappear_weight = -1\n",
    "config.tracking_config.appear_weight = -1\n",
    "\n",
    "print(config)"
   ]
  },
  {
   "cell_type": "code",
   "execution_count": null,
   "id": "7829b39a-5471-4eb8-a8d9-2ce704445a75",
   "metadata": {},
   "outputs": [],
   "source": [
    "cellpose = Cellpose(model_type=\"cyto2\", gpu=True)\n",
    "\n",
    "def predict(frame: ArrayLike, gamma: float) -> ArrayLike:\n",
    "    norm_frame = normalize(np.asarray(frame), gamma=gamma)\n",
    "    return cellpose(norm_frame, tile=False, normalize=False, diameter=75.0)"
   ]
  },
  {
   "cell_type": "code",
   "execution_count": null,
   "id": "fa88e34c-5787-48df-9adf-9f2e2f4e74e7",
   "metadata": {},
   "outputs": [],
   "source": [
    "gt_path = path.parent / f\"{dataset}_GT\"\n",
    "gt_data = load_ctc_data(gt_path / \"TRA\")\n",
    "\n",
    "def score(output_path: Path) -> Dict:\n",
    "    return run_metrics(\n",
    "        gt_data=gt_data, \n",
    "        pred_data=load_ctc_data(output_path),\n",
    "        matcher=CTCMatched,\n",
    "        metrics=[CTCMetrics],\n",
    "    )[\"CTCMetrics\"]"
   ]
  },
  {
   "cell_type": "code",
   "execution_count": null,
   "id": "457eac7d-850c-417e-889e-991a0695af0b",
   "metadata": {},
   "outputs": [],
   "source": [
    "all_labels = []\n",
    "metrics = []\n",
    "gammas = [0.1, 0.25, 0.5, 1]\n",
    "sigma = 5.0\n",
    "\n",
    "for gamma in gammas:\n",
    "\n",
    "    cellpose_labels = np.zeros_like(image, dtype=np.int32)\n",
    "    array_apply(\n",
    "        image,\n",
    "        out_array=cellpose_labels,\n",
    "        func=predict,\n",
    "        gamma=gamma,\n",
    "    )\n",
    "    all_labels.append(cellpose_labels)\n",
    "    \n",
    "    name = f\"{dataset}_labels_{gamma}\"\n",
    "    if not COLAB:\n",
    "        viewer.add_labels(cellpose_labels, name=name, visible=False)\n",
    "\n",
    "    detection, contours = labels_to_edges(cellpose_labels, sigma=sigma)\n",
    "\n",
    "    track(\n",
    "        config,\n",
    "        detection=detection,\n",
    "        edges=contours,\n",
    "        overwrite=True\n",
    "    )\n",
    "\n",
    "    output_path = Path(name.upper()) / \"TRA\"\n",
    "    to_ctc(output_path, config, overwrite=True)\n",
    "\n",
    "    metric = score(output_path)\n",
    "    metric[\"gamma\"] = gamma\n",
    "    metrics.append(metric)\n",
    "\n",
    "print(metrics)"
   ]
  },
  {
   "cell_type": "code",
   "execution_count": null,
   "id": "6701e7a1-ddc7-4e69-aa3c-4721fd7a84dd",
   "metadata": {},
   "outputs": [],
   "source": [
    "detection, contours = labels_to_edges(all_labels, sigma=sigma)"
   ]
  },
  {
   "cell_type": "code",
   "execution_count": null,
   "id": "eeb0e902-636b-4feb-9982-5f6c8595ec7e",
   "metadata": {},
   "outputs": [],
   "source": [
    "if COLAB:\n",
    "    display(stackview.curtain(image, detection))\n",
    "else:\n",
    "    viewer.add_labels(detection)"
   ]
  },
  {
   "cell_type": "code",
   "execution_count": null,
   "id": "2ab81612-3cd2-4533-af90-043b66421982",
   "metadata": {},
   "outputs": [],
   "source": [
    "if COLAB:\n",
    "    display(stackview.curtain(image, contours))\n",
    "else:\n",
    "    viewer.add_image(contours)"
   ]
  },
  {
   "cell_type": "code",
   "execution_count": null,
   "id": "06f11f38-1b8c-4744-a1a9-56144c75b32e",
   "metadata": {},
   "outputs": [],
   "source": [
    "track(\n",
    "   config,\n",
    "   detection=detection,\n",
    "   edges=contours,\n",
    "   overwrite=True\n",
    ")\n",
    "    \n",
    "output_path = Path(f\"{dataset}_COMBINED\") / \"TRA\"\n",
    "to_ctc(output_path, config, overwrite=True)\n",
    "\n",
    "metric = score(output_path)\n",
    "metrics.append(metric)\n",
    "\n",
    "df = pd.DataFrame(metrics)\n",
    "df.to_csv(f\"{dataset}_scores.csv\", index=False)\n",
    "df"
   ]
  },
  {
   "cell_type": "code",
   "execution_count": null,
   "id": "178ec1aa-831f-40ea-b8a9-c8fdd571ac72",
   "metadata": {},
   "outputs": [],
   "source": [
    "tracks_df, graph = to_tracks_layer(config)\n",
    "tracks_df.to_csv(f\"{dataset}_tracks.csv\", index=False)\n",
    "\n",
    "segments = tracks_to_zarr(\n",
    "    config,\n",
    "    tracks_df,\n",
    "    overwrite=True,\n",
    ")\n",
    "\n",
    "if COLAB:\n",
    "    display(stackview.curtain(image, segments))\n",
    "else:\n",
    "    viewer.add_tracks(\n",
    "        tracks_df[[\"track_id\", \"t\", \"y\", \"x\"]],\n",
    "        name=\"tracks\",\n",
    "        graph=graph,\n",
    "        visible=True,\n",
    "    )\n",
    "\n",
    "    viewer.add_labels(segments, name=\"segments\").contour = 2"
   ]
  }
 ],
 "metadata": {
  "accelerator": "GPU",
  "colab": {
   "gpuType": "T4",
   "provenance": []
  },
  "jupytext": {
   "cell_metadata_filter": "-all",
   "encoding": "# -*- coding: utf-8 -*-",
   "main_language": "python",
   "notebook_metadata_filter": "-all"
  },
  "kernelspec": {
   "display_name": "Python 3 (ipykernel)",
   "language": "python",
   "name": "python3"
  },
  "language_info": {
   "codemirror_mode": {
    "name": "ipython",
    "version": 3
   },
   "file_extension": ".py",
   "mimetype": "text/x-python",
   "name": "python",
   "nbconvert_exporter": "python",
   "pygments_lexer": "ipython3",
   "version": "3.10.12"
  }
 },
 "nbformat": 4,
 "nbformat_minor": 5
}
