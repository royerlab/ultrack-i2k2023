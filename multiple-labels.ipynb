{
 "cells": [
  {
   "cell_type": "markdown",
   "id": "0fb35ca1-7e8a-4527-8d0c-ad94995de5c0",
   "metadata": {},
   "source": [
    "# Ultrack I2K 2023 - Multiple hypotheses tracking\n",
    "\n",
    "## Setup Dependencies\n",
    "\n",
    "This step is only necessary if you are on Colab or don't have the required packages.\n",
    "When using Colab, the runtime must be initialized.\n",
    "\n",
    "Install the necessary packages for cell tracking, image processing, and visualization.\n",
    "Uncomment and run the following commands to install all required packages."
   ]
  },
  {
   "cell_type": "code",
   "execution_count": 1,
   "id": "017c2766-fc33-42f9-a0f2-30fda422c59f",
   "metadata": {},
   "outputs": [],
   "source": [
    "# !pip install stackview cellpose 'napari[all]' ultrack ipycanvas==0.11 cucim\n",
    "# !pip install git+https://github.com/Janelia-Trackathon-2023/traccuracy"
   ]
  },
  {
   "cell_type": "markdown",
   "id": "37cbc363-365c-4b9c-8816-a7858ef4603c",
   "metadata": {},
   "source": [
    "## Download Dataset\n",
    "\n",
    "Download the Fluo-C2DL-Huh7 dataset from the [Cell Tracking Challenge](celltrackingchallenge.net), which contains fluorescence microscopy images for cell tracking.\n",
    "\n",
    "The dataset will be used for demonstrating the segmentation and tracking workflow."
   ]
  },
  {
   "cell_type": "markdown",
   "id": "3133dbf1-5951-4112-a2ff-b180a907fbab",
   "metadata": {},
   "source": [
    "!wget -nc http://data.celltrackingchallenge.net/training-datasets/Fluo-C2DL-Huh7.zip\n",
    "!unzip -n Fluo-C2DL-Huh7.zip"
   ]
  },
  {
   "cell_type": "markdown",
   "id": "4ea37619-cca3-4029-8189-456fc9153fcf",
   "metadata": {},
   "source": [
    "## Import Libraries\n",
    "\n",
    "Import the libraries needed for reading images, processing them, cell segmentation, tracking, and performance metrics. "
   ]
  },
  {
   "cell_type": "code",
   "execution_count": 2,
   "id": "923c68b7",
   "metadata": {
    "id": "923c68b7"
   },
   "outputs": [],
   "source": [
    "from pathlib import Path\n",
    "from typing import Dict\n",
    "\n",
    "import pandas as pd\n",
    "import numpy as np\n",
    "import stackview\n",
    "from dask.array.image import imread\n",
    "from numpy.typing import ArrayLike\n",
    "from rich import print\n",
    "\n",
    "from traccuracy import run_metrics\n",
    "from traccuracy.loaders import load_ctc_data\n",
    "from traccuracy.matchers import CTCMatched\n",
    "from traccuracy.metrics import CTCMetrics\n",
    "\n",
    "from ultrack import track, to_tracks_layer, tracks_to_zarr, to_ctc\n",
    "from ultrack.utils import labels_to_edges\n",
    "from ultrack.config import MainConfig\n",
    "from ultrack.imgproc import normalize\n",
    "from ultrack.imgproc.segmentation import Cellpose\n",
    "from ultrack.utils.array import array_apply"
   ]
  },
  {
   "cell_type": "markdown",
   "id": "f7905b69-db4b-4b45-9451-5aa3248a42d9",
   "metadata": {},
   "source": [
    "## Colab or Local\n",
    "\n",
    "Check if the tutorial is running in a Google Colab environment or on a local machine. Depending on the environment, initialize a viewer for visualizations."
   ]
  },
  {
   "cell_type": "code",
   "execution_count": 3,
   "id": "63901b1c-ac75-4873-8ce2-757da85bd754",
   "metadata": {},
   "outputs": [
    {
     "data": {
      "text/html": [
       "<pre style=\"white-space:pre;overflow-x:auto;line-height:normal;font-family:Menlo,'DejaVu Sans Mono',consolas,'Courier New',monospace\">No module named <span style=\"color: #008000; text-decoration-color: #008000\">'google'</span>\n",
       "</pre>\n"
      ],
      "text/plain": [
       "No module named \u001b[32m'google'\u001b[0m\n"
      ]
     },
     "metadata": {},
     "output_type": "display_data"
    }
   ],
   "source": [
    "COLAB = True\n",
    "# COLAB = False\n",
    "\n",
    "if COLAB:\n",
    "    viewer = None\n",
    "\n",
    "    # fixes colab encoding error\n",
    "    import locale\n",
    "    locale.getpreferredencoding = lambda: \"UTF-8\"\n",
    "\n",
    "    # enabling colab output\n",
    "    try:\n",
    "        from google.colab import output\n",
    "        output.enable_custom_widget_manager()\n",
    "    except ModuleNotFoundError as e:\n",
    "        print(e)\n",
    "else:\n",
    "    import napari\n",
    "    viewer = napari.Viewer()"
   ]
  },
  {
   "cell_type": "markdown",
   "id": "b381ca65-f913-4ac3-a23b-66faa532fc54",
   "metadata": {},
   "source": [
    "## Load Data\n",
    "\n",
    "Load the Fluo-C2DL-Huh7 dataset into memory. This dataset contains TIFF images which we will visualize using stackview if running on Colab or napari if running locally."
   ]
  },
  {
   "cell_type": "code",
   "execution_count": 4,
   "id": "291788ce",
   "metadata": {
    "colab": {
     "base_uri": "https://localhost:8080/",
     "height": 35
    },
    "id": "291788ce",
    "outputId": "e6f14189-e280-49cb-b912-e47cd860c985"
   },
   "outputs": [
    {
     "data": {
      "application/vnd.jupyter.widget-view+json": {
       "model_id": "2c25136c84ff426385c457d1a472394c",
       "version_major": 2,
       "version_minor": 0
      },
      "text/plain": [
       "VBox(children=(HBox(children=(VBox(children=(ImageWidget(height=1024, width=1024),)),)), IntSlider(value=15, d…"
      ]
     },
     "metadata": {},
     "output_type": "display_data"
    }
   ],
   "source": [
    "dataset = \"02\"\n",
    "path = Path(\"Fluo-C2DL-Huh7\") / dataset\n",
    "image = imread(str(path / \"*.tif\"))\n",
    "\n",
    "if COLAB:\n",
    "    display(stackview.slice(image))\n",
    "else:\n",
    "    viewer.add_image(image)"
   ]
  },
  {
   "cell_type": "markdown",
   "id": "e189858e-55e2-42e8-9a4d-94c511d347fe",
   "metadata": {},
   "source": [
    "## Configuration\n",
    "\n",
    "We'll use the same configuration as in the previous example, except for `config.segmentation_config.min_frontier`, which we decreased.\n",
    "\n",
    "The `min_frontier` merges regions with an average contour lower than the provided value.\n",
    "Since the contours are combined by averaging, the previous value of 0.1 removed relevant segments from the candidate hypotheses.\n",
    "\n",
    "As a reminder, its documentation can be found [here](https://github.com/royerlab/ultrack/blob/main/ultrack/config/README.md)."
   ]
  },
  {
   "cell_type": "code",
   "execution_count": 5,
   "id": "ff451bcc",
   "metadata": {
    "colab": {
     "base_uri": "https://localhost:8080/",
     "height": 668
    },
    "id": "ff451bcc",
    "outputId": "0cb3ebe4-e371-4b19-9d67-25e35e7f8b86"
   },
   "outputs": [
    {
     "data": {
      "text/html": [
       "<pre style=\"white-space:pre;overflow-x:auto;line-height:normal;font-family:Menlo,'DejaVu Sans Mono',consolas,'Courier New',monospace\"><span style=\"color: #800080; text-decoration-color: #800080; font-weight: bold\">MainConfig</span><span style=\"font-weight: bold\">(</span>\n",
       "    <span style=\"color: #808000; text-decoration-color: #808000\">data_config</span>=<span style=\"color: #800080; text-decoration-color: #800080; font-weight: bold\">DataConfig</span><span style=\"font-weight: bold\">(</span><span style=\"color: #808000; text-decoration-color: #808000\">working_dir</span>=<span style=\"color: #800080; text-decoration-color: #800080; font-weight: bold\">PosixPath</span><span style=\"font-weight: bold\">(</span><span style=\"color: #008000; text-decoration-color: #008000\">'.'</span><span style=\"font-weight: bold\">)</span>, <span style=\"color: #808000; text-decoration-color: #808000\">database</span>=<span style=\"color: #008000; text-decoration-color: #008000\">'sqlite'</span>, <span style=\"color: #808000; text-decoration-color: #808000\">address</span>=<span style=\"color: #800080; text-decoration-color: #800080; font-style: italic\">None</span>, <span style=\"color: #808000; text-decoration-color: #808000\">n_workers</span>=<span style=\"color: #008080; text-decoration-color: #008080; font-weight: bold\">1</span><span style=\"font-weight: bold\">)</span>,\n",
       "    <span style=\"color: #808000; text-decoration-color: #808000\">segmentation_config</span>=<span style=\"color: #800080; text-decoration-color: #800080; font-weight: bold\">SegmentationConfig</span><span style=\"font-weight: bold\">(</span>\n",
       "        <span style=\"color: #808000; text-decoration-color: #808000\">threshold</span>=<span style=\"color: #008080; text-decoration-color: #008080; font-weight: bold\">0.5</span>,\n",
       "        <span style=\"color: #808000; text-decoration-color: #808000\">min_area</span>=<span style=\"color: #008080; text-decoration-color: #008080; font-weight: bold\">2500</span>,\n",
       "        <span style=\"color: #808000; text-decoration-color: #808000\">max_area</span>=<span style=\"color: #008080; text-decoration-color: #008080; font-weight: bold\">1000000</span>,\n",
       "        <span style=\"color: #808000; text-decoration-color: #808000\">min_frontier</span>=<span style=\"color: #008080; text-decoration-color: #008080; font-weight: bold\">0.05</span>,\n",
       "        <span style=\"color: #808000; text-decoration-color: #808000\">anisotropy_penalization</span>=<span style=\"color: #008080; text-decoration-color: #008080; font-weight: bold\">0.0</span>,\n",
       "        <span style=\"color: #808000; text-decoration-color: #808000\">max_noise</span>=<span style=\"color: #008080; text-decoration-color: #008080; font-weight: bold\">0.0</span>,\n",
       "        <span style=\"color: #808000; text-decoration-color: #808000\">ws_hierarchy</span>=<span style=\"font-weight: bold\">&lt;</span><span style=\"color: #ff00ff; text-decoration-color: #ff00ff; font-weight: bold\">function</span><span style=\"color: #000000; text-decoration-color: #000000\"> watershed_hierarchy_by_area at </span><span style=\"color: #008080; text-decoration-color: #008080; font-weight: bold\">0x1675e7f60</span><span style=\"font-weight: bold\">&gt;</span>,\n",
       "        <span style=\"color: #808000; text-decoration-color: #808000\">n_workers</span>=<span style=\"color: #008080; text-decoration-color: #008080; font-weight: bold\">8</span>\n",
       "    <span style=\"font-weight: bold\">)</span>,\n",
       "    <span style=\"color: #808000; text-decoration-color: #808000\">linking_config</span>=<span style=\"color: #800080; text-decoration-color: #800080; font-weight: bold\">LinkingConfig</span><span style=\"font-weight: bold\">(</span>\n",
       "        <span style=\"color: #808000; text-decoration-color: #808000\">n_workers</span>=<span style=\"color: #008080; text-decoration-color: #008080; font-weight: bold\">8</span>,\n",
       "        <span style=\"color: #808000; text-decoration-color: #808000\">max_neighbors</span>=<span style=\"color: #008080; text-decoration-color: #008080; font-weight: bold\">5</span>,\n",
       "        <span style=\"color: #808000; text-decoration-color: #808000\">max_distance</span>=<span style=\"color: #008080; text-decoration-color: #008080; font-weight: bold\">100</span>,\n",
       "        <span style=\"color: #808000; text-decoration-color: #808000\">distance_weight</span>=<span style=\"color: #008080; text-decoration-color: #008080; font-weight: bold\">0.0</span>,\n",
       "        <span style=\"color: #808000; text-decoration-color: #808000\">z_score_threshold</span>=<span style=\"color: #008080; text-decoration-color: #008080; font-weight: bold\">5.0</span>\n",
       "    <span style=\"font-weight: bold\">)</span>,\n",
       "    <span style=\"color: #808000; text-decoration-color: #808000\">tracking_config</span>=<span style=\"color: #800080; text-decoration-color: #800080; font-weight: bold\">TrackingConfig</span><span style=\"font-weight: bold\">(</span>\n",
       "        <span style=\"color: #808000; text-decoration-color: #808000\">appear_weight</span>=<span style=\"color: #008080; text-decoration-color: #008080; font-weight: bold\">-1</span>,\n",
       "        <span style=\"color: #808000; text-decoration-color: #808000\">disappear_weight</span>=<span style=\"color: #008080; text-decoration-color: #008080; font-weight: bold\">-1</span>,\n",
       "        <span style=\"color: #808000; text-decoration-color: #808000\">division_weight</span>=<span style=\"color: #008080; text-decoration-color: #008080; font-weight: bold\">-100</span>,\n",
       "        <span style=\"color: #808000; text-decoration-color: #808000\">dismiss_weight_guess</span>=<span style=\"color: #800080; text-decoration-color: #800080; font-style: italic\">None</span>,\n",
       "        <span style=\"color: #808000; text-decoration-color: #808000\">include_weight_guess</span>=<span style=\"color: #800080; text-decoration-color: #800080; font-style: italic\">None</span>,\n",
       "        <span style=\"color: #808000; text-decoration-color: #808000\">window_size</span>=<span style=\"color: #800080; text-decoration-color: #800080; font-style: italic\">None</span>,\n",
       "        <span style=\"color: #808000; text-decoration-color: #808000\">overlap_size</span>=<span style=\"color: #008080; text-decoration-color: #008080; font-weight: bold\">1</span>,\n",
       "        <span style=\"color: #808000; text-decoration-color: #808000\">solution_gap</span>=<span style=\"color: #008080; text-decoration-color: #008080; font-weight: bold\">0.001</span>,\n",
       "        <span style=\"color: #808000; text-decoration-color: #808000\">time_limit</span>=<span style=\"color: #008080; text-decoration-color: #008080; font-weight: bold\">36000</span>,\n",
       "        <span style=\"color: #808000; text-decoration-color: #808000\">method</span>=<span style=\"color: #008080; text-decoration-color: #008080; font-weight: bold\">0</span>,\n",
       "        <span style=\"color: #808000; text-decoration-color: #808000\">n_threads</span>=<span style=\"color: #008080; text-decoration-color: #008080; font-weight: bold\">-1</span>,\n",
       "        <span style=\"color: #808000; text-decoration-color: #808000\">link_function</span>=<span style=\"color: #008000; text-decoration-color: #008000\">'power'</span>,\n",
       "        <span style=\"color: #808000; text-decoration-color: #808000\">power</span>=<span style=\"color: #008080; text-decoration-color: #008080; font-weight: bold\">4</span>,\n",
       "        <span style=\"color: #808000; text-decoration-color: #808000\">bias</span>=<span style=\"color: #008080; text-decoration-color: #008080; font-weight: bold\">-0.0</span>\n",
       "    <span style=\"font-weight: bold\">)</span>\n",
       "<span style=\"font-weight: bold\">)</span>\n",
       "</pre>\n"
      ],
      "text/plain": [
       "\u001b[1;35mMainConfig\u001b[0m\u001b[1m(\u001b[0m\n",
       "    \u001b[33mdata_config\u001b[0m=\u001b[1;35mDataConfig\u001b[0m\u001b[1m(\u001b[0m\u001b[33mworking_dir\u001b[0m=\u001b[1;35mPosixPath\u001b[0m\u001b[1m(\u001b[0m\u001b[32m'.'\u001b[0m\u001b[1m)\u001b[0m, \u001b[33mdatabase\u001b[0m=\u001b[32m'sqlite'\u001b[0m, \u001b[33maddress\u001b[0m=\u001b[3;35mNone\u001b[0m, \u001b[33mn_workers\u001b[0m=\u001b[1;36m1\u001b[0m\u001b[1m)\u001b[0m,\n",
       "    \u001b[33msegmentation_config\u001b[0m=\u001b[1;35mSegmentationConfig\u001b[0m\u001b[1m(\u001b[0m\n",
       "        \u001b[33mthreshold\u001b[0m=\u001b[1;36m0\u001b[0m\u001b[1;36m.5\u001b[0m,\n",
       "        \u001b[33mmin_area\u001b[0m=\u001b[1;36m2500\u001b[0m,\n",
       "        \u001b[33mmax_area\u001b[0m=\u001b[1;36m1000000\u001b[0m,\n",
       "        \u001b[33mmin_frontier\u001b[0m=\u001b[1;36m0\u001b[0m\u001b[1;36m.05\u001b[0m,\n",
       "        \u001b[33manisotropy_penalization\u001b[0m=\u001b[1;36m0\u001b[0m\u001b[1;36m.0\u001b[0m,\n",
       "        \u001b[33mmax_noise\u001b[0m=\u001b[1;36m0\u001b[0m\u001b[1;36m.0\u001b[0m,\n",
       "        \u001b[33mws_hierarchy\u001b[0m=\u001b[1m<\u001b[0m\u001b[1;95mfunction\u001b[0m\u001b[39m watershed_hierarchy_by_area at \u001b[0m\u001b[1;36m0x1675e7f60\u001b[0m\u001b[1m>\u001b[0m,\n",
       "        \u001b[33mn_workers\u001b[0m=\u001b[1;36m8\u001b[0m\n",
       "    \u001b[1m)\u001b[0m,\n",
       "    \u001b[33mlinking_config\u001b[0m=\u001b[1;35mLinkingConfig\u001b[0m\u001b[1m(\u001b[0m\n",
       "        \u001b[33mn_workers\u001b[0m=\u001b[1;36m8\u001b[0m,\n",
       "        \u001b[33mmax_neighbors\u001b[0m=\u001b[1;36m5\u001b[0m,\n",
       "        \u001b[33mmax_distance\u001b[0m=\u001b[1;36m100\u001b[0m,\n",
       "        \u001b[33mdistance_weight\u001b[0m=\u001b[1;36m0\u001b[0m\u001b[1;36m.0\u001b[0m,\n",
       "        \u001b[33mz_score_threshold\u001b[0m=\u001b[1;36m5\u001b[0m\u001b[1;36m.0\u001b[0m\n",
       "    \u001b[1m)\u001b[0m,\n",
       "    \u001b[33mtracking_config\u001b[0m=\u001b[1;35mTrackingConfig\u001b[0m\u001b[1m(\u001b[0m\n",
       "        \u001b[33mappear_weight\u001b[0m=\u001b[1;36m-1\u001b[0m,\n",
       "        \u001b[33mdisappear_weight\u001b[0m=\u001b[1;36m-1\u001b[0m,\n",
       "        \u001b[33mdivision_weight\u001b[0m=\u001b[1;36m-100\u001b[0m,\n",
       "        \u001b[33mdismiss_weight_guess\u001b[0m=\u001b[3;35mNone\u001b[0m,\n",
       "        \u001b[33minclude_weight_guess\u001b[0m=\u001b[3;35mNone\u001b[0m,\n",
       "        \u001b[33mwindow_size\u001b[0m=\u001b[3;35mNone\u001b[0m,\n",
       "        \u001b[33moverlap_size\u001b[0m=\u001b[1;36m1\u001b[0m,\n",
       "        \u001b[33msolution_gap\u001b[0m=\u001b[1;36m0\u001b[0m\u001b[1;36m.001\u001b[0m,\n",
       "        \u001b[33mtime_limit\u001b[0m=\u001b[1;36m36000\u001b[0m,\n",
       "        \u001b[33mmethod\u001b[0m=\u001b[1;36m0\u001b[0m,\n",
       "        \u001b[33mn_threads\u001b[0m=\u001b[1;36m-1\u001b[0m,\n",
       "        \u001b[33mlink_function\u001b[0m=\u001b[32m'power'\u001b[0m,\n",
       "        \u001b[33mpower\u001b[0m=\u001b[1;36m4\u001b[0m,\n",
       "        \u001b[33mbias\u001b[0m=\u001b[1;36m-0.0\u001b[0m\n",
       "    \u001b[1m)\u001b[0m\n",
       "\u001b[1m)\u001b[0m\n"
      ]
     },
     "metadata": {},
     "output_type": "display_data"
    }
   ],
   "source": [
    "config = MainConfig()\n",
    "\n",
    "# Candidate segmentation parameters\n",
    "config.segmentation_config.n_workers = 8\n",
    "config.segmentation_config.min_area = 2500\n",
    "config.segmentation_config.min_frontier = 0.05  # NOTE: this parameter is not the same as in intro.ipynb\n",
    "\n",
    "# Setting the maximum number of candidate neighbors and maximum spatial distance between cells\n",
    "config.linking_config.max_neighbors = 5\n",
    "config.linking_config.max_distance = 100\n",
    "config.linking_config.n_workers = 8\n",
    "\n",
    "# Adding absurd weight to division because there's no diving cell\n",
    "config.tracking_config.division_weight = -100\n",
    "# Very few tracks enter/leave the field of view, increasing penalization\n",
    "config.tracking_config.disappear_weight = -1\n",
    "config.tracking_config.appear_weight = -1\n",
    "\n",
    "print(config)"
   ]
  },
  {
   "cell_type": "markdown",
   "id": "223e0559-88ac-480d-8585-235d7b3d31c9",
   "metadata": {},
   "source": [
    "## Cellpose Segmentation\n",
    "\n",
    "The same function as `intro.ipynb` to segment cells within each frame."
   ]
  },
  {
   "cell_type": "code",
   "execution_count": 6,
   "id": "7829b39a-5471-4eb8-a8d9-2ce704445a75",
   "metadata": {},
   "outputs": [],
   "source": [
    "cellpose = Cellpose(model_type=\"cyto2\", gpu=True)\n",
    "\n",
    "def predict(frame: ArrayLike, gamma: float) -> ArrayLike:\n",
    "    norm_frame = normalize(np.asarray(frame), gamma=gamma)\n",
    "    return cellpose(norm_frame, tile=False, normalize=False, diameter=75.0)"
   ]
  },
  {
   "cell_type": "markdown",
   "id": "04c3717e-7d55-4695-a15d-5443ebd27ac0",
   "metadata": {},
   "source": [
    "## Metrics\n",
    "\n",
    "Helper function to evaluate tracking score using [Cell Tracking Challenge](celltrackingchallenge.net)'s metrics and annotations."
   ]
  },
  {
   "cell_type": "code",
   "execution_count": 7,
   "id": "fa88e34c-5787-48df-9adf-9f2e2f4e74e7",
   "metadata": {},
   "outputs": [
    {
     "name": "stderr",
     "output_type": "stream",
     "text": [
      "Loading TIFFs: 100%|████████████████████████████████████████████████████████████████████████████████████████████████████████| 30/30 [00:00<00:00, 214.69it/s]\n"
     ]
    }
   ],
   "source": [
    "gt_path = path.parent / f\"{dataset}_GT\"\n",
    "gt_data = load_ctc_data(gt_path / \"TRA\")\n",
    "\n",
    "def score(output_path: Path) -> Dict:\n",
    "    return run_metrics(\n",
    "        gt_data=gt_data, \n",
    "        pred_data=load_ctc_data(output_path),\n",
    "        matcher=CTCMatched,\n",
    "        metrics=[CTCMetrics],\n",
    "    )[\"CTCMetrics\"]"
   ]
  },
  {
   "cell_type": "markdown",
   "id": "27ed1d89-5f3e-49ed-995f-f7ab3bc8e61d",
   "metadata": {},
   "source": [
    "## Parameter Search\n",
    "\n",
    "Here, we evaluate the segmentation and tracking given multiple values of `gamma`, used on the normalization step before the Cellpose prediction."
   ]
  },
  {
   "cell_type": "code",
   "execution_count": null,
   "id": "457eac7d-850c-417e-889e-991a0695af0b",
   "metadata": {},
   "outputs": [
    {
     "name": "stderr",
     "output_type": "stream",
     "text": [
      "Applying predict ...: 100%|██████████████████████████████████████████████████████████████████████████████████████████████████| 30/30 [03:38<00:00,  7.28s/it]\n",
      "Converting labels to edges: 100%|████████████████████████████████████████████████████████████████████████████████████████████| 30/30 [00:02<00:00, 10.98it/s]\n",
      "WARNING:ultrack.core.segmentation.processing:Found zarr with MemoryStore. Using an zarr with MemoryStore can lead to considerable memory usage.\n",
      "WARNING:ultrack.core.segmentation.processing:Found zarr with MemoryStore. Using an zarr with MemoryStore can lead to considerable memory usage.\n",
      "Adding nodes to database: 100%|██████████████████████████████████████████████████████████████████████████████████████████████| 30/30 [00:08<00:00,  3.53it/s]\n",
      "Linking nodes.: 100%|████████████████████████████████████████████████████████████████████████████████████████████████████████| 29/29 [00:04<00:00,  6.48it/s]\n"
     ]
    },
    {
     "name": "stdout",
     "output_type": "stream",
     "text": [
      "Set parameter Username\n",
      "Academic license - for non-commercial use only - expires 2024-08-17\n",
      "Using GRB solver\n",
      "Solving ILP batch 0\n",
      "Constructing ILP ...\n",
      "Set parameter TimeLimit to value 36000\n",
      "Solving ILP ...\n",
      "Set parameter NodeLimit to value 1073741824\n",
      "Set parameter SolutionLimit to value 1073741824\n",
      "Set parameter IntFeasTol to value 1e-06\n",
      "Set parameter Method to value 3\n",
      "Set parameter MIPGap to value 0.001\n",
      "Gurobi Optimizer version 10.0.3 build v10.0.3rc0 (mac64[arm])\n",
      "\n",
      "CPU model: Apple M2 Pro\n",
      "Thread count: 10 physical cores, 10 logical processors, using up to 10 threads\n",
      "\n",
      "Optimize a model with 8824 rows, 14838 columns and 33513 nonzeros\n",
      "Model fingerprint: 0x8d757e5d\n",
      "Variable types: 0 continuous, 14838 integer (14838 binary)\n",
      "Coefficient statistics:\n",
      "  Matrix range     [1e+00, 1e+00]\n",
      "  Objective range  [2e-19, 1e+02]\n",
      "  Bounds range     [1e+00, 1e+00]\n",
      "  RHS range        [1e+00, 1e+00]\n",
      "Found heuristic solution: objective -0.0000000\n",
      "Presolve removed 5366 rows and 7735 columns\n",
      "Presolve time: 0.08s\n",
      "Presolved: 3458 rows, 7103 columns, 15984 nonzeros\n",
      "Found heuristic solution: objective 271.6120410\n",
      "Variable types: 0 continuous, 7103 integer (7103 binary)\n",
      "Concurrent LP optimizer: primal simplex, dual simplex, and barrier\n",
      "Showing barrier log only...\n",
      "\n",
      "Root barrier log...\n",
      "\n",
      "Ordering time: 0.00s\n",
      "\n",
      "Barrier statistics:\n",
      " AA' NZ     : 1.357e+04\n",
      " Factor NZ  : 7.968e+04 (roughly 5 MB of memory)\n",
      " Factor Ops : 2.393e+06 (less than 1 second per iteration)\n",
      " Threads    : 8\n",
      "\n",
      "Barrier performed 0 iterations in 0.10 seconds (0.07 work units)\n",
      "Barrier solve interrupted - model solved by another algorithm\n",
      "\n",
      "\n",
      "Solved with dual simplex\n",
      "\n",
      "Root relaxation: objective 5.369321e+02, 1507 iterations, 0.02 seconds (0.02 work units)\n",
      "\n",
      "    Nodes    |    Current Node    |     Objective Bounds      |     Work\n",
      " Expl Unexpl |  Obj  Depth IntInf | Incumbent    BestBd   Gap | It/Node Time\n",
      "\n",
      "*    0     0               0     536.9321057  536.93211  0.00%     -    0s\n",
      "\n",
      "Explored 1 nodes (1507 simplex iterations) in 0.11 seconds (0.08 work units)\n",
      "Thread count was 10 (of 10 available processors)\n",
      "\n",
      "Solution count 3: 536.932 271.612 -0 \n",
      "\n",
      "Optimal solution found (tolerance 1.00e-03)\n",
      "Best objective 5.369321057463e+02, best bound 5.369321057463e+02, gap 0.0000%\n",
      "Saving solution ...\n",
      "Done!\n"
     ]
    },
    {
     "name": "stderr",
     "output_type": "stream",
     "text": [
      "Exporting segmentation masks: 100%|██████████████████████████████████████████████████████████████████████████████████████████| 30/30 [00:00<00:00, 82.42it/s]\n",
      "Loading TIFFs: 100%|████████████████████████████████████████████████████████████████████████████████████████████████████████| 30/30 [00:00<00:00, 632.27it/s]\n",
      "Matching frames: 100%|███████████████████████████████████████████████████████████████████████████████████████████████████████| 30/30 [00:00<00:00, 86.30it/s]\n",
      "Evaluating nodes: 100%|██████████████████████████████████████████████████████████████████████████████████████████████| 1138/1138 [00:00<00:00, 710285.41it/s]\n",
      "Evaluating FP edges: 100%|██████████████████████████████████████████████████████████████████████████████████████████████| 1008/1008 [00:01<00:00, 892.51it/s]\n",
      "Evaluating FN edges: 100%|█████████████████████████████████████████████████████████████████████████████████████████████| 1563/1563 [00:00<00:00, 2278.26it/s]\n",
      "Applying predict ...:  53%|████████████████████████████████████████████████████▎                                             | 16/30 [01:45<01:34,  6.75s/it]"
     ]
    }
   ],
   "source": [
    "all_labels = []\n",
    "metrics = []\n",
    "gammas = [0.1, 0.25, 0.5, 1]\n",
    "sigma = 5.0\n",
    "\n",
    "for gamma in gammas:\n",
    "\n",
    "    # cellpose prediction\n",
    "    cellpose_labels = np.zeros_like(image, dtype=np.int32)\n",
    "    array_apply(\n",
    "        image,\n",
    "        out_array=cellpose_labels,\n",
    "        func=predict,\n",
    "        gamma=gamma,\n",
    "    )\n",
    "    all_labels.append(cellpose_labels)\n",
    "    \n",
    "    name = f\"{dataset}_labels_{gamma}\"\n",
    "    if not COLAB:\n",
    "        viewer.add_labels(cellpose_labels, name=name, visible=False)\n",
    "\n",
    "    # cell tracking using `labels` parameter, it's the same as using `labels_to_edges`.\n",
    "    track(\n",
    "        config,\n",
    "        labels=cellpose_labels,\n",
    "        sigma=sigma,\n",
    "        overwrite=True\n",
    "    )\n",
    "\n",
    "    # exporting to CTC format\n",
    "    output_path = Path(name.upper()) / \"TRA\"\n",
    "    to_ctc(output_path, config, overwrite=True)\n",
    "\n",
    "    # computing tracking score\n",
    "    metric = score(output_path)\n",
    "    metric[\"gamma\"] = gamma\n",
    "    metrics.append(metric)\n",
    "\n",
    "print(metrics)"
   ]
  },
  {
   "cell_type": "markdown",
   "id": "fc19bac8-44a8-4e7b-8ecf-bfa3780e8f1f",
   "metadata": {},
   "source": [
    "## Combined Contours and Detection\n",
    "\n",
    "The `labels_to_edges` combines multiple segmentation labels into a single detection and contour map.\n",
    "\n",
    "The detection map is the maximum value between the binary masks of each label.\n",
    "\n",
    "The contour map is the average contour map of the binary contours of each label."
   ]
  },
  {
   "cell_type": "code",
   "execution_count": null,
   "id": "6701e7a1-ddc7-4e69-aa3c-4721fd7a84dd",
   "metadata": {},
   "outputs": [],
   "source": [
    "detection, contours = labels_to_edges(all_labels, sigma=sigma)"
   ]
  },
  {
   "cell_type": "code",
   "execution_count": null,
   "id": "eeb0e902-636b-4feb-9982-5f6c8595ec7e",
   "metadata": {},
   "outputs": [],
   "source": [
    "if COLAB:\n",
    "    display(stackview.curtain(image, detection))\n",
    "else:\n",
    "    viewer.add_labels(detection)"
   ]
  },
  {
   "cell_type": "code",
   "execution_count": null,
   "id": "2ab81612-3cd2-4533-af90-043b66421982",
   "metadata": {},
   "outputs": [],
   "source": [
    "if COLAB:\n",
    "    display(stackview.curtain(image, contours))\n",
    "else:\n",
    "    viewer.add_image(contours)"
   ]
  },
  {
   "cell_type": "markdown",
   "id": "4d2efd71-4476-4027-a22e-7eb82d8762f8",
   "metadata": {},
   "source": [
    "## Tracking\n",
    "\n",
    "Run the tracking algorithm based on the provided configuration, detected regions, and contours."
   ]
  },
  {
   "cell_type": "code",
   "execution_count": null,
   "id": "06f11f38-1b8c-4744-a1a9-56144c75b32e",
   "metadata": {},
   "outputs": [],
   "source": [
    "track(\n",
    "   config,\n",
    "   detection=detection,\n",
    "   edges=contours,\n",
    "   overwrite=True\n",
    ")"
   ]
  },
  {
   "cell_type": "markdown",
   "id": "435f4b7f-11e0-4ae1-a95e-0443c642f03d",
   "metadata": {},
   "source": [
    "Compute metrics for the multiple hypotheses tracking and compare the scores of the different approaches."
   ]
  },
  {
   "cell_type": "code",
   "execution_count": null,
   "id": "9841030b-48e4-481e-9c8f-7d5dfc342d3f",
   "metadata": {},
   "outputs": [],
   "source": [
    "output_path = Path(f\"{dataset}_COMBINED\") / \"TRA\"\n",
    "to_ctc(output_path, config, overwrite=True)\n",
    "\n",
    "metric = score(output_path)\n",
    "metrics.append(metric)\n",
    "\n",
    "df = pd.DataFrame(metrics)\n",
    "df.to_csv(f\"{dataset}_scores.csv\", index=False)\n",
    "df"
   ]
  },
  {
   "cell_type": "markdown",
   "id": "932b5b22-20d3-409b-bf53-a9003db7c623",
   "metadata": {},
   "source": [
    "## Exporting and Visualization\n",
    "\n",
    "The intermediate tracking data is stored on disk and must be exported to your preferred format.\n",
    "Here we convert the resulting tracks to a DataFrame and Zarr to visualize using napari if running locally."
   ]
  },
  {
   "cell_type": "code",
   "execution_count": null,
   "id": "178ec1aa-831f-40ea-b8a9-c8fdd571ac72",
   "metadata": {},
   "outputs": [],
   "source": [
    "tracks_df, graph = to_tracks_layer(config)\n",
    "tracks_df.to_csv(f\"{dataset}_tracks.csv\", index=False)\n",
    "\n",
    "segments = tracks_to_zarr(\n",
    "    config,\n",
    "    tracks_df,\n",
    "    overwrite=True,\n",
    ")\n",
    "\n",
    "if COLAB:\n",
    "    display(stackview.curtain(image, segments))\n",
    "else:\n",
    "    viewer.add_tracks(\n",
    "        tracks_df[[\"track_id\", \"t\", \"y\", \"x\"]],\n",
    "        name=\"tracks\",\n",
    "        graph=graph,\n",
    "        visible=True,\n",
    "    )\n",
    "\n",
    "    viewer.add_labels(segments, name=\"segments\").contour = 2"
   ]
  }
 ],
 "metadata": {
  "accelerator": "GPU",
  "colab": {
   "gpuType": "T4",
   "provenance": []
  },
  "jupytext": {
   "cell_metadata_filter": "-all",
   "encoding": "# -*- coding: utf-8 -*-",
   "main_language": "python",
   "notebook_metadata_filter": "-all"
  },
  "kernelspec": {
   "display_name": "Python 3 (ipykernel)",
   "language": "python",
   "name": "python3"
  },
  "language_info": {
   "codemirror_mode": {
    "name": "ipython",
    "version": 3
   },
   "file_extension": ".py",
   "mimetype": "text/x-python",
   "name": "python",
   "nbconvert_exporter": "python",
   "pygments_lexer": "ipython3",
   "version": "3.11.6"
  }
 },
 "nbformat": 4,
 "nbformat_minor": 5
}
