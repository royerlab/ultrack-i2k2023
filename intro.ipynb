{
 "cells": [
  {
   "cell_type": "code",
   "execution_count": 1,
   "id": "017c2766-fc33-42f9-a0f2-30fda422c59f",
   "metadata": {},
   "outputs": [
    {
     "name": "stdout",
     "output_type": "stream",
     "text": [
      "File ‘Fluo-C2DL-Huh7.zip’ already there; not retrieving.\n",
      "\n",
      "Archive:  Fluo-C2DL-Huh7.zip\n"
     ]
    }
   ],
   "source": [
    "!wget -nc http://data.celltrackingchallenge.net/training-datasets/Fluo-C2DL-Huh7.zip\n",
    "!unzip -n Fluo-C2DL-Huh7.zip"
   ]
  },
  {
   "cell_type": "code",
   "execution_count": 2,
   "id": "01022c0f-1cd2-4bbe-9720-2c5ac75d0001",
   "metadata": {},
   "outputs": [],
   "source": [
    "# !pip install stackview cellpose 'napari[all]' ultrack\n",
    "# !pip install git+https://github.com/Janelia-Trackathon-2023/traccuracy\n",
    "COLAB = True\n",
    "# COLAB = False"
   ]
  },
  {
   "cell_type": "code",
   "execution_count": 3,
   "id": "923c68b7",
   "metadata": {
    "id": "923c68b7"
   },
   "outputs": [],
   "source": [
    "from pathlib import Path\n",
    "\n",
    "import numpy as np\n",
    "import stackview\n",
    "from dask.array.image import imread\n",
    "from numpy.typing import ArrayLike\n",
    "from rich import print\n",
    "\n",
    "from traccuracy import run_metrics\n",
    "from traccuracy.loaders import load_ctc_data\n",
    "from traccuracy.matchers import CTCMatched\n",
    "from traccuracy.metrics import CTCMetrics\n",
    "\n",
    "from ultrack import track, to_tracks_layer, tracks_to_zarr, to_ctc\n",
    "from ultrack.utils import labels_to_edges\n",
    "from ultrack.config import MainConfig\n",
    "from ultrack.imgproc import normalize\n",
    "from ultrack.imgproc.segmentation import Cellpose\n",
    "from ultrack.utils.array import array_apply"
   ]
  },
  {
   "cell_type": "code",
   "execution_count": 4,
   "id": "374293ac-544c-4d40-99e5-210a7319376c",
   "metadata": {},
   "outputs": [],
   "source": [
    "if COLAB:\n",
    "    viewer = None\n",
    "else:\n",
    "    import napari\n",
    "    viewer = napari.Viewer()"
   ]
  },
  {
   "cell_type": "code",
   "execution_count": 5,
   "id": "291788ce",
   "metadata": {
    "colab": {
     "base_uri": "https://localhost:8080/",
     "height": 35
    },
    "id": "291788ce",
    "outputId": "e6f14189-e280-49cb-b912-e47cd860c985"
   },
   "outputs": [],
   "source": [
    "dataset = \"02\"\n",
    "path = Path(\"Fluo-C2DL-Huh7\") / dataset\n",
    "image = imread(str(path / \"*.tif\"))\n",
    "\n",
    "if COLAB:\n",
    "    stackview.slice(image)\n",
    "else:\n",
    "    viewer.add_image(image)"
   ]
  },
  {
   "cell_type": "code",
   "execution_count": 6,
   "id": "7829b39a-5471-4eb8-a8d9-2ce704445a75",
   "metadata": {},
   "outputs": [],
   "source": [
    "cellpose = Cellpose(model_type=\"cyto2\", gpu=True)\n",
    "\n",
    "def predict(frame: ArrayLike, gamma: float) -> ArrayLike:\n",
    "    norm_frame = normalize(np.asarray(frame), gamma=gamma)\n",
    "    return cellpose(norm_frame, tile=False, normalize=False, diameter=75.0)"
   ]
  },
  {
   "cell_type": "code",
   "execution_count": 7,
   "id": "ce19af0c-4d8a-4e11-962f-c480ccf3ac32",
   "metadata": {},
   "outputs": [
    {
     "name": "stderr",
     "output_type": "stream",
     "text": [
      "Applying predict ...: 100%|████████████████████████████████████████████████████████████████████████████████████| 30/30 [02:38<00:00,  5.27s/it]\n"
     ]
    }
   ],
   "source": [
    "cellpose_labels = np.zeros(image.shape, dtype=np.int32)\n",
    "array_apply(\n",
    "    image,\n",
    "    out_array=cellpose_labels,\n",
    "    func=predict,\n",
    "    gamma=0.5,\n",
    ")\n",
    "\n",
    "if COLAB:\n",
    "    stackview.curtain(image, cellpose_labels)\n",
    "else:\n",
    "    viewer.add_labels(cellpose_labels)"
   ]
  },
  {
   "cell_type": "code",
   "execution_count": 8,
   "id": "8e413632-920b-4f24-8920-40997f0db2b0",
   "metadata": {},
   "outputs": [
    {
     "name": "stderr",
     "output_type": "stream",
     "text": [
      "Converting labels to edges: 100%|██████████████████████████████████████████████████████████████████████████████| 30/30 [00:01<00:00, 15.61it/s]\n"
     ]
    }
   ],
   "source": [
    "detection, contours = labels_to_edges(cellpose_labels, sigma=5.0)"
   ]
  },
  {
   "cell_type": "code",
   "execution_count": 9,
   "id": "70342665-4998-419a-9bd7-ca189d206812",
   "metadata": {},
   "outputs": [],
   "source": [
    "if COLAB:\n",
    "    stackview.curtain(image, detection)\n",
    "else:\n",
    "    viewer.add_labels(detection)"
   ]
  },
  {
   "cell_type": "code",
   "execution_count": 10,
   "id": "9b3943ee-7096-4a0d-8ac1-4537033c4a09",
   "metadata": {},
   "outputs": [],
   "source": [
    "if COLAB:\n",
    "    stackview.curtain(image, contours)\n",
    "else:\n",
    "    viewer.add_image(contours)"
   ]
  },
  {
   "cell_type": "code",
   "execution_count": 11,
   "id": "ff451bcc",
   "metadata": {
    "colab": {
     "base_uri": "https://localhost:8080/",
     "height": 668
    },
    "id": "ff451bcc",
    "outputId": "0cb3ebe4-e371-4b19-9d67-25e35e7f8b86"
   },
   "outputs": [
    {
     "data": {
      "text/html": [
       "<pre style=\"white-space:pre;overflow-x:auto;line-height:normal;font-family:Menlo,'DejaVu Sans Mono',consolas,'Courier New',monospace\"><span style=\"color: #800080; text-decoration-color: #800080; font-weight: bold\">MainConfig</span><span style=\"font-weight: bold\">(</span>\n",
       "    <span style=\"color: #808000; text-decoration-color: #808000\">data_config</span>=<span style=\"color: #800080; text-decoration-color: #800080; font-weight: bold\">DataConfig</span><span style=\"font-weight: bold\">(</span><span style=\"color: #808000; text-decoration-color: #808000\">working_dir</span>=<span style=\"color: #800080; text-decoration-color: #800080; font-weight: bold\">PosixPath</span><span style=\"font-weight: bold\">(</span><span style=\"color: #008000; text-decoration-color: #008000\">'.'</span><span style=\"font-weight: bold\">)</span>, <span style=\"color: #808000; text-decoration-color: #808000\">database</span>=<span style=\"color: #008000; text-decoration-color: #008000\">'sqlite'</span>, <span style=\"color: #808000; text-decoration-color: #808000\">address</span>=<span style=\"color: #800080; text-decoration-color: #800080; font-style: italic\">None</span>, <span style=\"color: #808000; text-decoration-color: #808000\">n_workers</span>=<span style=\"color: #008080; text-decoration-color: #008080; font-weight: bold\">1</span><span style=\"font-weight: bold\">)</span>,\n",
       "    <span style=\"color: #808000; text-decoration-color: #808000\">segmentation_config</span>=<span style=\"color: #800080; text-decoration-color: #800080; font-weight: bold\">SegmentationConfig</span><span style=\"font-weight: bold\">(</span>\n",
       "        <span style=\"color: #808000; text-decoration-color: #808000\">threshold</span>=<span style=\"color: #008080; text-decoration-color: #008080; font-weight: bold\">0.5</span>,\n",
       "        <span style=\"color: #808000; text-decoration-color: #808000\">min_area</span>=<span style=\"color: #008080; text-decoration-color: #008080; font-weight: bold\">2500</span>,\n",
       "        <span style=\"color: #808000; text-decoration-color: #808000\">max_area</span>=<span style=\"color: #008080; text-decoration-color: #008080; font-weight: bold\">1000000</span>,\n",
       "        <span style=\"color: #808000; text-decoration-color: #808000\">min_frontier</span>=<span style=\"color: #008080; text-decoration-color: #008080; font-weight: bold\">0.1</span>,\n",
       "        <span style=\"color: #808000; text-decoration-color: #808000\">anisotropy_penalization</span>=<span style=\"color: #008080; text-decoration-color: #008080; font-weight: bold\">0.0</span>,\n",
       "        <span style=\"color: #808000; text-decoration-color: #808000\">max_noise</span>=<span style=\"color: #008080; text-decoration-color: #008080; font-weight: bold\">0.0</span>,\n",
       "        <span style=\"color: #808000; text-decoration-color: #808000\">ws_hierarchy</span>=<span style=\"font-weight: bold\">&lt;</span><span style=\"color: #ff00ff; text-decoration-color: #ff00ff; font-weight: bold\">function</span><span style=\"color: #000000; text-decoration-color: #000000\"> watershed_hierarchy_by_area at </span><span style=\"color: #008080; text-decoration-color: #008080; font-weight: bold\">0x14315db40</span><span style=\"font-weight: bold\">&gt;</span>,\n",
       "        <span style=\"color: #808000; text-decoration-color: #808000\">n_workers</span>=<span style=\"color: #008080; text-decoration-color: #008080; font-weight: bold\">8</span>\n",
       "    <span style=\"font-weight: bold\">)</span>,\n",
       "    <span style=\"color: #808000; text-decoration-color: #808000\">linking_config</span>=<span style=\"color: #800080; text-decoration-color: #800080; font-weight: bold\">LinkingConfig</span><span style=\"font-weight: bold\">(</span>\n",
       "        <span style=\"color: #808000; text-decoration-color: #808000\">n_workers</span>=<span style=\"color: #008080; text-decoration-color: #008080; font-weight: bold\">8</span>,\n",
       "        <span style=\"color: #808000; text-decoration-color: #808000\">max_neighbors</span>=<span style=\"color: #008080; text-decoration-color: #008080; font-weight: bold\">5</span>,\n",
       "        <span style=\"color: #808000; text-decoration-color: #808000\">max_distance</span>=<span style=\"color: #008080; text-decoration-color: #008080; font-weight: bold\">100</span>,\n",
       "        <span style=\"color: #808000; text-decoration-color: #808000\">distance_weight</span>=<span style=\"color: #008080; text-decoration-color: #008080; font-weight: bold\">0.0</span>,\n",
       "        <span style=\"color: #808000; text-decoration-color: #808000\">z_score_threshold</span>=<span style=\"color: #008080; text-decoration-color: #008080; font-weight: bold\">5.0</span>\n",
       "    <span style=\"font-weight: bold\">)</span>,\n",
       "    <span style=\"color: #808000; text-decoration-color: #808000\">tracking_config</span>=<span style=\"color: #800080; text-decoration-color: #800080; font-weight: bold\">TrackingConfig</span><span style=\"font-weight: bold\">(</span>\n",
       "        <span style=\"color: #808000; text-decoration-color: #808000\">appear_weight</span>=<span style=\"color: #008080; text-decoration-color: #008080; font-weight: bold\">-1</span>,\n",
       "        <span style=\"color: #808000; text-decoration-color: #808000\">disappear_weight</span>=<span style=\"color: #008080; text-decoration-color: #008080; font-weight: bold\">-1</span>,\n",
       "        <span style=\"color: #808000; text-decoration-color: #808000\">division_weight</span>=<span style=\"color: #008080; text-decoration-color: #008080; font-weight: bold\">-100</span>,\n",
       "        <span style=\"color: #808000; text-decoration-color: #808000\">dismiss_weight_guess</span>=<span style=\"color: #800080; text-decoration-color: #800080; font-style: italic\">None</span>,\n",
       "        <span style=\"color: #808000; text-decoration-color: #808000\">include_weight_guess</span>=<span style=\"color: #800080; text-decoration-color: #800080; font-style: italic\">None</span>,\n",
       "        <span style=\"color: #808000; text-decoration-color: #808000\">window_size</span>=<span style=\"color: #800080; text-decoration-color: #800080; font-style: italic\">None</span>,\n",
       "        <span style=\"color: #808000; text-decoration-color: #808000\">overlap_size</span>=<span style=\"color: #008080; text-decoration-color: #008080; font-weight: bold\">1</span>,\n",
       "        <span style=\"color: #808000; text-decoration-color: #808000\">solution_gap</span>=<span style=\"color: #008080; text-decoration-color: #008080; font-weight: bold\">0.001</span>,\n",
       "        <span style=\"color: #808000; text-decoration-color: #808000\">time_limit</span>=<span style=\"color: #008080; text-decoration-color: #008080; font-weight: bold\">36000</span>,\n",
       "        <span style=\"color: #808000; text-decoration-color: #808000\">method</span>=<span style=\"color: #008080; text-decoration-color: #008080; font-weight: bold\">0</span>,\n",
       "        <span style=\"color: #808000; text-decoration-color: #808000\">n_threads</span>=<span style=\"color: #008080; text-decoration-color: #008080; font-weight: bold\">-1</span>,\n",
       "        <span style=\"color: #808000; text-decoration-color: #808000\">link_function</span>=<span style=\"color: #008000; text-decoration-color: #008000\">'power'</span>,\n",
       "        <span style=\"color: #808000; text-decoration-color: #808000\">power</span>=<span style=\"color: #008080; text-decoration-color: #008080; font-weight: bold\">4</span>,\n",
       "        <span style=\"color: #808000; text-decoration-color: #808000\">bias</span>=<span style=\"color: #008080; text-decoration-color: #008080; font-weight: bold\">-0.0</span>\n",
       "    <span style=\"font-weight: bold\">)</span>\n",
       "<span style=\"font-weight: bold\">)</span>\n",
       "</pre>\n"
      ],
      "text/plain": [
       "\u001b[1;35mMainConfig\u001b[0m\u001b[1m(\u001b[0m\n",
       "    \u001b[33mdata_config\u001b[0m=\u001b[1;35mDataConfig\u001b[0m\u001b[1m(\u001b[0m\u001b[33mworking_dir\u001b[0m=\u001b[1;35mPosixPath\u001b[0m\u001b[1m(\u001b[0m\u001b[32m'.'\u001b[0m\u001b[1m)\u001b[0m, \u001b[33mdatabase\u001b[0m=\u001b[32m'sqlite'\u001b[0m, \u001b[33maddress\u001b[0m=\u001b[3;35mNone\u001b[0m, \u001b[33mn_workers\u001b[0m=\u001b[1;36m1\u001b[0m\u001b[1m)\u001b[0m,\n",
       "    \u001b[33msegmentation_config\u001b[0m=\u001b[1;35mSegmentationConfig\u001b[0m\u001b[1m(\u001b[0m\n",
       "        \u001b[33mthreshold\u001b[0m=\u001b[1;36m0\u001b[0m\u001b[1;36m.5\u001b[0m,\n",
       "        \u001b[33mmin_area\u001b[0m=\u001b[1;36m2500\u001b[0m,\n",
       "        \u001b[33mmax_area\u001b[0m=\u001b[1;36m1000000\u001b[0m,\n",
       "        \u001b[33mmin_frontier\u001b[0m=\u001b[1;36m0\u001b[0m\u001b[1;36m.1\u001b[0m,\n",
       "        \u001b[33manisotropy_penalization\u001b[0m=\u001b[1;36m0\u001b[0m\u001b[1;36m.0\u001b[0m,\n",
       "        \u001b[33mmax_noise\u001b[0m=\u001b[1;36m0\u001b[0m\u001b[1;36m.0\u001b[0m,\n",
       "        \u001b[33mws_hierarchy\u001b[0m=\u001b[1m<\u001b[0m\u001b[1;95mfunction\u001b[0m\u001b[39m watershed_hierarchy_by_area at \u001b[0m\u001b[1;36m0x14315db40\u001b[0m\u001b[1m>\u001b[0m,\n",
       "        \u001b[33mn_workers\u001b[0m=\u001b[1;36m8\u001b[0m\n",
       "    \u001b[1m)\u001b[0m,\n",
       "    \u001b[33mlinking_config\u001b[0m=\u001b[1;35mLinkingConfig\u001b[0m\u001b[1m(\u001b[0m\n",
       "        \u001b[33mn_workers\u001b[0m=\u001b[1;36m8\u001b[0m,\n",
       "        \u001b[33mmax_neighbors\u001b[0m=\u001b[1;36m5\u001b[0m,\n",
       "        \u001b[33mmax_distance\u001b[0m=\u001b[1;36m100\u001b[0m,\n",
       "        \u001b[33mdistance_weight\u001b[0m=\u001b[1;36m0\u001b[0m\u001b[1;36m.0\u001b[0m,\n",
       "        \u001b[33mz_score_threshold\u001b[0m=\u001b[1;36m5\u001b[0m\u001b[1;36m.0\u001b[0m\n",
       "    \u001b[1m)\u001b[0m,\n",
       "    \u001b[33mtracking_config\u001b[0m=\u001b[1;35mTrackingConfig\u001b[0m\u001b[1m(\u001b[0m\n",
       "        \u001b[33mappear_weight\u001b[0m=\u001b[1;36m-1\u001b[0m,\n",
       "        \u001b[33mdisappear_weight\u001b[0m=\u001b[1;36m-1\u001b[0m,\n",
       "        \u001b[33mdivision_weight\u001b[0m=\u001b[1;36m-100\u001b[0m,\n",
       "        \u001b[33mdismiss_weight_guess\u001b[0m=\u001b[3;35mNone\u001b[0m,\n",
       "        \u001b[33minclude_weight_guess\u001b[0m=\u001b[3;35mNone\u001b[0m,\n",
       "        \u001b[33mwindow_size\u001b[0m=\u001b[3;35mNone\u001b[0m,\n",
       "        \u001b[33moverlap_size\u001b[0m=\u001b[1;36m1\u001b[0m,\n",
       "        \u001b[33msolution_gap\u001b[0m=\u001b[1;36m0\u001b[0m\u001b[1;36m.001\u001b[0m,\n",
       "        \u001b[33mtime_limit\u001b[0m=\u001b[1;36m36000\u001b[0m,\n",
       "        \u001b[33mmethod\u001b[0m=\u001b[1;36m0\u001b[0m,\n",
       "        \u001b[33mn_threads\u001b[0m=\u001b[1;36m-1\u001b[0m,\n",
       "        \u001b[33mlink_function\u001b[0m=\u001b[32m'power'\u001b[0m,\n",
       "        \u001b[33mpower\u001b[0m=\u001b[1;36m4\u001b[0m,\n",
       "        \u001b[33mbias\u001b[0m=\u001b[1;36m-0.0\u001b[0m\n",
       "    \u001b[1m)\u001b[0m\n",
       "\u001b[1m)\u001b[0m\n"
      ]
     },
     "metadata": {},
     "output_type": "display_data"
    }
   ],
   "source": [
    "config = MainConfig()\n",
    "\n",
    "# Candidate segmentation parameters\n",
    "config.segmentation_config.n_workers = 8\n",
    "config.segmentation_config.min_area = 2500\n",
    "config.segmentation_config.min_frontier = 0.1\n",
    "\n",
    "# Setting the maximum number of candidate neighbors and maximum spatial distance between cells\n",
    "config.linking_config.max_neighbors = 5\n",
    "config.linking_config.max_distance = 100\n",
    "config.linking_config.n_workers = 8\n",
    "\n",
    "# Adding absurd weight to division because there are few dividing cells\n",
    "config.tracking_config.division_weight = -100\n",
    "\n",
    "# Very few tracks enter/leave the field of view, increasing penalization\n",
    "config.tracking_config.disappear_weight = -1\n",
    "config.tracking_config.appear_weight = -1\n",
    "\n",
    "print(config)"
   ]
  },
  {
   "cell_type": "code",
   "execution_count": 12,
   "id": "74b997f7-33af-4284-9705-4af901473619",
   "metadata": {},
   "outputs": [
    {
     "name": "stderr",
     "output_type": "stream",
     "text": [
      "WARNING:ultrack.core.segmentation.processing:Found zarr with MemoryStore. Using an zarr with MemoryStore can lead to considerable memory usage.\n",
      "WARNING:ultrack.core.segmentation.processing:Found zarr with MemoryStore. Using an zarr with MemoryStore can lead to considerable memory usage.\n",
      "Adding nodes to database: 100%|████████████████████████████████████████████████████████████████████████████████| 30/30 [00:06<00:00,  4.40it/s]\n",
      "Linking nodes.: 100%|██████████████████████████████████████████████████████████████████████████████████████████| 29/29 [00:03<00:00,  8.50it/s]\n",
      "WARNING:ultrack.core.solve.sqltracking:Gurobi environment could not be loaded, check your license.\n",
      "ERROR:mip.cbc:An error occurred while loading the CBC library:\t cannot load library '/Users/jordao.bragantini/mambaforge/envs/ultrack/lib/python3.10/site-packages/mip/libraries/cbc-c-darwin-x86-64.dylib': dlopen(/Users/jordao.bragantini/mambaforge/envs/ultrack/lib/python3.10/site-packages/mip/libraries/cbc-c-darwin-x86-64.dylib, 0x0002): tried: '/Users/jordao.bragantini/mambaforge/envs/ultrack/lib/python3.10/site-packages/mip/libraries/cbc-c-darwin-x86-64.dylib' (mach-o file, but is an incompatible architecture (have 'x86_64', need 'arm64')), '/System/Volumes/Preboot/Cryptexes/OS/Users/jordao.bragantini/mambaforge/envs/ultrack/lib/python3.10/site-packages/mip/libraries/cbc-c-darwin-x86-64.dylib' (no such file), '/Users/jordao.bragantini/mambaforge/envs/ultrack/lib/python3.10/site-packages/mip/libraries/cbc-c-darwin-x86-64.dylib' (mach-o file, but is an incompatible architecture (have 'x86_64', need 'arm64')).  Additionally, ctypes.util.find_library() did not manage to locate a library called '/Users/jordao.bragantini/mambaforge/envs/ultrack/lib/python3.10/site-packages/mip/libraries/cbc-c-darwin-x86-64.dylib'\n",
      "\n"
     ]
    },
    {
     "ename": "NameError",
     "evalue": "name 'cbclib' is not defined",
     "output_type": "error",
     "traceback": [
      "\u001b[0;31m---------------------------------------------------------------------------\u001b[0m",
      "\u001b[0;31mInterfacingError\u001b[0m                          Traceback (most recent call last)",
      "File \u001b[0;32m~/Softwares/ultrack-dev/ultrack/core/solve/sqltracking.py:68\u001b[0m, in \u001b[0;36mSQLTracking.__call__\u001b[0;34m(self, index)\u001b[0m\n\u001b[1;32m     67\u001b[0m \u001b[38;5;28;01mtry\u001b[39;00m:\n\u001b[0;32m---> 68\u001b[0m     solver \u001b[38;5;241m=\u001b[39m \u001b[43mMIPSolver\u001b[49m\u001b[43m(\u001b[49m\u001b[38;5;28;43mself\u001b[39;49m\u001b[38;5;241;43m.\u001b[39;49m\u001b[43m_tracking_config\u001b[49m\u001b[43m)\u001b[49m\n\u001b[1;32m     69\u001b[0m \u001b[38;5;28;01mexcept\u001b[39;00m InterfacingError \u001b[38;5;28;01mas\u001b[39;00m e:\n",
      "File \u001b[0;32m~/Softwares/ultrack-dev/ultrack/core/solve/solver/mip_solver.py:35\u001b[0m, in \u001b[0;36mMIPSolver.__init__\u001b[0;34m(self, config, solver)\u001b[0m\n\u001b[1;32m     34\u001b[0m \u001b[38;5;28mself\u001b[39m\u001b[38;5;241m.\u001b[39m_solver_name \u001b[38;5;241m=\u001b[39m solver\n\u001b[0;32m---> 35\u001b[0m \u001b[38;5;28;43mself\u001b[39;49m\u001b[38;5;241;43m.\u001b[39;49m\u001b[43mreset\u001b[49m\u001b[43m(\u001b[49m\u001b[43m)\u001b[49m\n",
      "File \u001b[0;32m~/Softwares/ultrack-dev/ultrack/core/solve/solver/mip_solver.py:39\u001b[0m, in \u001b[0;36mMIPSolver.reset\u001b[0;34m(self)\u001b[0m\n\u001b[1;32m     38\u001b[0m \u001b[38;5;250m\u001b[39m\u001b[38;5;124;03m\"\"\"Sets model to an empty state.\"\"\"\u001b[39;00m\n\u001b[0;32m---> 39\u001b[0m \u001b[38;5;28mself\u001b[39m\u001b[38;5;241m.\u001b[39m_model \u001b[38;5;241m=\u001b[39m \u001b[43mmip\u001b[49m\u001b[38;5;241;43m.\u001b[39;49m\u001b[43mModel\u001b[49m\u001b[43m(\u001b[49m\u001b[43msense\u001b[49m\u001b[38;5;241;43m=\u001b[39;49m\u001b[43mmip\u001b[49m\u001b[38;5;241;43m.\u001b[39;49m\u001b[43mMAXIMIZE\u001b[49m\u001b[43m,\u001b[49m\u001b[43m \u001b[49m\u001b[43msolver_name\u001b[49m\u001b[38;5;241;43m=\u001b[39;49m\u001b[38;5;28;43mself\u001b[39;49m\u001b[38;5;241;43m.\u001b[39;49m\u001b[43m_solver_name\u001b[49m\u001b[43m)\u001b[49m\n\u001b[1;32m     41\u001b[0m \u001b[38;5;28;01mif\u001b[39;00m \u001b[38;5;28mself\u001b[39m\u001b[38;5;241m.\u001b[39m_model\u001b[38;5;241m.\u001b[39msolver_name \u001b[38;5;241m==\u001b[39m mip\u001b[38;5;241m.\u001b[39mCBC:\n",
      "File \u001b[0;32m~/mambaforge/envs/ultrack/lib/python3.10/site-packages/mip/model.py:95\u001b[0m, in \u001b[0;36mModel.__init__\u001b[0;34m(self, name, sense, solver_name, solver)\u001b[0m\n\u001b[1;32m     93\u001b[0m \u001b[38;5;28;01mif\u001b[39;00m mip\u001b[38;5;241m.\u001b[39mgurobi\u001b[38;5;241m.\u001b[39mfound:\n\u001b[0;32m---> 95\u001b[0m     \u001b[38;5;28mself\u001b[39m\u001b[38;5;241m.\u001b[39msolver \u001b[38;5;241m=\u001b[39m \u001b[43mmip\u001b[49m\u001b[38;5;241;43m.\u001b[39;49m\u001b[43mgurobi\u001b[49m\u001b[38;5;241;43m.\u001b[39;49m\u001b[43mSolverGurobi\u001b[49m\u001b[43m(\u001b[49m\u001b[38;5;28;43mself\u001b[39;49m\u001b[43m,\u001b[49m\u001b[43m \u001b[49m\u001b[43mname\u001b[49m\u001b[43m,\u001b[49m\u001b[43m \u001b[49m\u001b[43msense\u001b[49m\u001b[43m)\u001b[49m\n\u001b[1;32m     96\u001b[0m     \u001b[38;5;28mself\u001b[39m\u001b[38;5;241m.\u001b[39msolver_name \u001b[38;5;241m=\u001b[39m mip\u001b[38;5;241m.\u001b[39mGUROBI\n",
      "File \u001b[0;32m~/mambaforge/envs/ultrack/lib/python3.10/site-packages/mip/gurobi.py:369\u001b[0m, in \u001b[0;36mSolverGurobi.__init__\u001b[0;34m(self, model, name, sense, modelp)\u001b[0m\n\u001b[1;32m    368\u001b[0m \u001b[38;5;28;01mif\u001b[39;00m st \u001b[38;5;241m!=\u001b[39m \u001b[38;5;241m0\u001b[39m:\n\u001b[0;32m--> 369\u001b[0m     \u001b[38;5;28;01mraise\u001b[39;00m InterfacingError(\n\u001b[1;32m    370\u001b[0m         \u001b[38;5;124m\"\u001b[39m\u001b[38;5;124mGurobi environment could not be loaded, check your license.\u001b[39m\u001b[38;5;124m\"\u001b[39m\n\u001b[1;32m    371\u001b[0m     )\n\u001b[1;32m    372\u001b[0m \u001b[38;5;28mself\u001b[39m\u001b[38;5;241m.\u001b[39m_env \u001b[38;5;241m=\u001b[39m \u001b[38;5;28mself\u001b[39m\u001b[38;5;241m.\u001b[39m_env[\u001b[38;5;241m0\u001b[39m]\n",
      "\u001b[0;31mInterfacingError\u001b[0m: Gurobi environment could not be loaded, check your license.",
      "\nDuring handling of the above exception, another exception occurred:\n",
      "\u001b[0;31mNameError\u001b[0m                                 Traceback (most recent call last)",
      "Cell \u001b[0;32mIn[12], line 1\u001b[0m\n\u001b[0;32m----> 1\u001b[0m \u001b[43mtrack\u001b[49m\u001b[43m(\u001b[49m\n\u001b[1;32m      2\u001b[0m \u001b[43m    \u001b[49m\u001b[43mconfig\u001b[49m\u001b[43m,\u001b[49m\n\u001b[1;32m      3\u001b[0m \u001b[43m    \u001b[49m\u001b[43mdetection\u001b[49m\u001b[38;5;241;43m=\u001b[39;49m\u001b[43mdetection\u001b[49m\u001b[43m,\u001b[49m\n\u001b[1;32m      4\u001b[0m \u001b[43m    \u001b[49m\u001b[43medges\u001b[49m\u001b[38;5;241;43m=\u001b[39;49m\u001b[43mcontours\u001b[49m\u001b[43m,\u001b[49m\n\u001b[1;32m      5\u001b[0m \u001b[43m    \u001b[49m\u001b[43moverwrite\u001b[49m\u001b[38;5;241;43m=\u001b[39;49m\u001b[38;5;28;43;01mTrue\u001b[39;49;00m\n\u001b[1;32m      6\u001b[0m \u001b[43m)\u001b[49m\n",
      "File \u001b[0;32m~/Softwares/ultrack-dev/ultrack/core/main.py:100\u001b[0m, in \u001b[0;36mtrack\u001b[0;34m(config, labels, sigma, detection, edges, images, scale, vector_field, overwrite)\u001b[0m\n\u001b[1;32m     97\u001b[0m     \u001b[38;5;28;01mif\u001b[39;00m vector_field \u001b[38;5;129;01mis\u001b[39;00m \u001b[38;5;129;01mnot\u001b[39;00m \u001b[38;5;28;01mNone\u001b[39;00m:\n\u001b[1;32m     98\u001b[0m         add_flow(config, vector_field)\n\u001b[0;32m--> 100\u001b[0m \u001b[43msolve\u001b[49m\u001b[43m(\u001b[49m\u001b[43mconfig\u001b[49m\u001b[43m)\u001b[49m\n",
      "File \u001b[0;32m~/Softwares/ultrack-dev/ultrack/core/solve/processing.py:38\u001b[0m, in \u001b[0;36msolve\u001b[0;34m(config, batch_index, overwrite)\u001b[0m\n\u001b[1;32m     36\u001b[0m \u001b[38;5;66;03m# interleaved processing\u001b[39;00m\n\u001b[1;32m     37\u001b[0m \u001b[38;5;28;01mfor\u001b[39;00m batch_index \u001b[38;5;129;01min\u001b[39;00m \u001b[38;5;28mrange\u001b[39m(\u001b[38;5;241m0\u001b[39m, tracker\u001b[38;5;241m.\u001b[39mnum_batches, \u001b[38;5;241m2\u001b[39m):\n\u001b[0;32m---> 38\u001b[0m     \u001b[43mtracker\u001b[49m\u001b[43m(\u001b[49m\u001b[43mindex\u001b[49m\u001b[38;5;241;43m=\u001b[39;49m\u001b[43mbatch_index\u001b[49m\u001b[43m)\u001b[49m\n\u001b[1;32m     39\u001b[0m \u001b[38;5;28;01mfor\u001b[39;00m batch_index \u001b[38;5;129;01min\u001b[39;00m \u001b[38;5;28mrange\u001b[39m(\u001b[38;5;241m1\u001b[39m, tracker\u001b[38;5;241m.\u001b[39mnum_batches, \u001b[38;5;241m2\u001b[39m):\n\u001b[1;32m     40\u001b[0m     tracker(index\u001b[38;5;241m=\u001b[39mbatch_index)\n",
      "File \u001b[0;32m~/Softwares/ultrack-dev/ultrack/core/solve/sqltracking.py:71\u001b[0m, in \u001b[0;36mSQLTracking.__call__\u001b[0;34m(self, index)\u001b[0m\n\u001b[1;32m     69\u001b[0m \u001b[38;5;28;01mexcept\u001b[39;00m InterfacingError \u001b[38;5;28;01mas\u001b[39;00m e:\n\u001b[1;32m     70\u001b[0m     LOG\u001b[38;5;241m.\u001b[39mwarning(e)\n\u001b[0;32m---> 71\u001b[0m     solver \u001b[38;5;241m=\u001b[39m \u001b[43mMIPSolver\u001b[49m\u001b[43m(\u001b[49m\u001b[38;5;28;43mself\u001b[39;49m\u001b[38;5;241;43m.\u001b[39;49m\u001b[43m_tracking_config\u001b[49m\u001b[43m,\u001b[49m\u001b[43m \u001b[49m\u001b[38;5;124;43m\"\u001b[39;49m\u001b[38;5;124;43mCBC\u001b[39;49m\u001b[38;5;124;43m\"\u001b[39;49m\u001b[43m)\u001b[49m\n\u001b[1;32m     73\u001b[0m \u001b[38;5;28mprint\u001b[39m(\u001b[38;5;124mf\u001b[39m\u001b[38;5;124m\"\u001b[39m\u001b[38;5;124mUsing \u001b[39m\u001b[38;5;132;01m{\u001b[39;00msolver\u001b[38;5;241m.\u001b[39m_model\u001b[38;5;241m.\u001b[39msolver_name\u001b[38;5;132;01m}\u001b[39;00m\u001b[38;5;124m solver\u001b[39m\u001b[38;5;124m\"\u001b[39m)\n\u001b[1;32m     74\u001b[0m \u001b[38;5;28mprint\u001b[39m(\u001b[38;5;124mf\u001b[39m\u001b[38;5;124m\"\u001b[39m\u001b[38;5;124mSolving ILP batch \u001b[39m\u001b[38;5;132;01m{\u001b[39;00mindex\u001b[38;5;132;01m}\u001b[39;00m\u001b[38;5;124m\"\u001b[39m)\n",
      "File \u001b[0;32m~/Softwares/ultrack-dev/ultrack/core/solve/solver/mip_solver.py:35\u001b[0m, in \u001b[0;36mMIPSolver.__init__\u001b[0;34m(self, config, solver)\u001b[0m\n\u001b[1;32m     33\u001b[0m \u001b[38;5;28mself\u001b[39m\u001b[38;5;241m.\u001b[39m_config \u001b[38;5;241m=\u001b[39m config\n\u001b[1;32m     34\u001b[0m \u001b[38;5;28mself\u001b[39m\u001b[38;5;241m.\u001b[39m_solver_name \u001b[38;5;241m=\u001b[39m solver\n\u001b[0;32m---> 35\u001b[0m \u001b[38;5;28;43mself\u001b[39;49m\u001b[38;5;241;43m.\u001b[39;49m\u001b[43mreset\u001b[49m\u001b[43m(\u001b[49m\u001b[43m)\u001b[49m\n",
      "File \u001b[0;32m~/Softwares/ultrack-dev/ultrack/core/solve/solver/mip_solver.py:39\u001b[0m, in \u001b[0;36mMIPSolver.reset\u001b[0;34m(self)\u001b[0m\n\u001b[1;32m     37\u001b[0m \u001b[38;5;28;01mdef\u001b[39;00m \u001b[38;5;21mreset\u001b[39m(\u001b[38;5;28mself\u001b[39m) \u001b[38;5;241m-\u001b[39m\u001b[38;5;241m>\u001b[39m \u001b[38;5;28;01mNone\u001b[39;00m:\n\u001b[1;32m     38\u001b[0m \u001b[38;5;250m    \u001b[39m\u001b[38;5;124;03m\"\"\"Sets model to an empty state.\"\"\"\u001b[39;00m\n\u001b[0;32m---> 39\u001b[0m     \u001b[38;5;28mself\u001b[39m\u001b[38;5;241m.\u001b[39m_model \u001b[38;5;241m=\u001b[39m \u001b[43mmip\u001b[49m\u001b[38;5;241;43m.\u001b[39;49m\u001b[43mModel\u001b[49m\u001b[43m(\u001b[49m\u001b[43msense\u001b[49m\u001b[38;5;241;43m=\u001b[39;49m\u001b[43mmip\u001b[49m\u001b[38;5;241;43m.\u001b[39;49m\u001b[43mMAXIMIZE\u001b[49m\u001b[43m,\u001b[49m\u001b[43m \u001b[49m\u001b[43msolver_name\u001b[49m\u001b[38;5;241;43m=\u001b[39;49m\u001b[38;5;28;43mself\u001b[39;49m\u001b[38;5;241;43m.\u001b[39;49m\u001b[43m_solver_name\u001b[49m\u001b[43m)\u001b[49m\n\u001b[1;32m     41\u001b[0m     \u001b[38;5;28;01mif\u001b[39;00m \u001b[38;5;28mself\u001b[39m\u001b[38;5;241m.\u001b[39m_model\u001b[38;5;241m.\u001b[39msolver_name \u001b[38;5;241m==\u001b[39m mip\u001b[38;5;241m.\u001b[39mCBC:\n\u001b[1;32m     42\u001b[0m         LOG\u001b[38;5;241m.\u001b[39mwarning(\n\u001b[1;32m     43\u001b[0m             \u001b[38;5;124m\"\u001b[39m\u001b[38;5;124mUsing CBC solver. Consider installing Gurobi for significantly better performance.\u001b[39m\u001b[38;5;124m\"\u001b[39m\n\u001b[1;32m     44\u001b[0m         )\n",
      "File \u001b[0;32m~/mambaforge/envs/ultrack/lib/python3.10/site-packages/mip/model.py:87\u001b[0m, in \u001b[0;36mModel.__init__\u001b[0;34m(self, name, sense, solver_name, solver)\u001b[0m\n\u001b[1;32m     85\u001b[0m     \u001b[38;5;28mself\u001b[39m\u001b[38;5;241m.\u001b[39msolver \u001b[38;5;241m=\u001b[39m mip\u001b[38;5;241m.\u001b[39mgurobi\u001b[38;5;241m.\u001b[39mSolverGurobi(\u001b[38;5;28mself\u001b[39m, name, sense)\n\u001b[1;32m     86\u001b[0m \u001b[38;5;28;01melif\u001b[39;00m \u001b[38;5;28mself\u001b[39m\u001b[38;5;241m.\u001b[39msolver_name\u001b[38;5;241m.\u001b[39mupper() \u001b[38;5;241m==\u001b[39m \u001b[38;5;124m\"\u001b[39m\u001b[38;5;124mCBC\u001b[39m\u001b[38;5;124m\"\u001b[39m:\n\u001b[0;32m---> 87\u001b[0m     \u001b[38;5;28;01mimport\u001b[39;00m \u001b[38;5;21;01mmip\u001b[39;00m\u001b[38;5;21;01m.\u001b[39;00m\u001b[38;5;21;01mcbc\u001b[39;00m\n\u001b[1;32m     89\u001b[0m     \u001b[38;5;28mself\u001b[39m\u001b[38;5;241m.\u001b[39msolver \u001b[38;5;241m=\u001b[39m mip\u001b[38;5;241m.\u001b[39mcbc\u001b[38;5;241m.\u001b[39mSolverCbc(\u001b[38;5;28mself\u001b[39m, name, sense)\n\u001b[1;32m     90\u001b[0m \u001b[38;5;28;01melse\u001b[39;00m:\n",
      "File \u001b[0;32m~/mambaforge/envs/ultrack/lib/python3.10/site-packages/mip/cbc.py:603\u001b[0m\n\u001b[1;32m    599\u001b[0m INT_PARAM_CLIQUE_MERGING \u001b[38;5;241m=\u001b[39m \u001b[38;5;241m18\u001b[39m\n\u001b[1;32m    600\u001b[0m INT_PARAM_MAX_NODES_NOT_IMPROV_FS \u001b[38;5;241m=\u001b[39m \u001b[38;5;241m19\u001b[39m\n\u001b[0;32m--> 603\u001b[0m Osi_getNumCols \u001b[38;5;241m=\u001b[39m \u001b[43mcbclib\u001b[49m\u001b[38;5;241m.\u001b[39mOsi_getNumCols\n\u001b[1;32m    604\u001b[0m Osi_getColSolution \u001b[38;5;241m=\u001b[39m cbclib\u001b[38;5;241m.\u001b[39mOsi_getColSolution\n\u001b[1;32m    605\u001b[0m Osi_getIntegerTolerance \u001b[38;5;241m=\u001b[39m cbclib\u001b[38;5;241m.\u001b[39mOsi_getIntegerTolerance\n",
      "\u001b[0;31mNameError\u001b[0m: name 'cbclib' is not defined"
     ]
    }
   ],
   "source": [
    "track(\n",
    "    config,\n",
    "    detection=detection,\n",
    "    edges=contours,\n",
    "    overwrite=True\n",
    ")"
   ]
  },
  {
   "cell_type": "code",
   "execution_count": null,
   "id": "178ec1aa-831f-40ea-b8a9-c8fdd571ac72",
   "metadata": {},
   "outputs": [],
   "source": [
    "tracks_df, graph = to_tracks_layer(config)\n",
    "tracks_df.to_csv(f\"{dataset}_tracks.csv\", index=False)\n",
    "\n",
    "segments = tracks_to_zarr(\n",
    "    config,\n",
    "    tracks_df,\n",
    "    overwrite=True,\n",
    ")\n",
    "\n",
    "if COLAB:\n",
    "    stackview.curtain(image, segments)\n",
    "else:\n",
    "    viewer.add_tracks(\n",
    "        tracks_df[[\"track_id\", \"t\", \"y\", \"x\"]],\n",
    "        name=\"tracks\",\n",
    "        graph=graph,\n",
    "        visible=True,\n",
    "    )\n",
    "    \n",
    "    viewer.add_labels(segments, name=\"segments\").contour = 2"
   ]
  },
  {
   "cell_type": "code",
   "execution_count": null,
   "id": "fa88e34c-5787-48df-9adf-9f2e2f4e74e7",
   "metadata": {},
   "outputs": [],
   "source": [
    "name = f\"{path.parent.name}_{path.name}\".upper()\n",
    "output_path = Path(name) / \"TRA\"\n",
    "to_ctc(output_path, config, overwrite=True)\n",
    "\n",
    "gt_path = path.parent / f\"{dataset}_GT\" / \"TRA\"\n",
    "\n",
    "run_metrics(\n",
    "    gt_data=load_ctc_data(gt_path), \n",
    "    pred_data=load_ctc_data(output_path),\n",
    "    matcher=CTCMatched,\n",
    "    metrics=[CTCMetrics],\n",
    ")[\"CTCMetrics\"]"
   ]
  }
 ],
 "metadata": {
  "accelerator": "GPU",
  "colab": {
   "gpuType": "T4",
   "provenance": []
  },
  "jupytext": {
   "cell_metadata_filter": "-all",
   "encoding": "# -*- coding: utf-8 -*-",
   "main_language": "python",
   "notebook_metadata_filter": "-all"
  },
  "kernelspec": {
   "display_name": "Python 3 (ipykernel)",
   "language": "python",
   "name": "python3"
  },
  "language_info": {
   "codemirror_mode": {
    "name": "ipython",
    "version": 3
   },
   "file_extension": ".py",
   "mimetype": "text/x-python",
   "name": "python",
   "nbconvert_exporter": "python",
   "pygments_lexer": "ipython3",
   "version": "3.10.12"
  }
 },
 "nbformat": 4,
 "nbformat_minor": 5
}
